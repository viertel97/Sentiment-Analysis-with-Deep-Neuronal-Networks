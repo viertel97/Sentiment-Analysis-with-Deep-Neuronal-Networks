{
 "cells": [
  {
   "cell_type": "code",
   "execution_count": 1,
   "metadata": {},
   "outputs": [],
   "source": [
    "import os\n",
    "import sys\n",
    "module_path = os.path.abspath(os.path.join('..'))\n",
    "if module_path not in sys.path:\n",
    "    sys.path.append(module_path)"
   ]
  },
  {
   "cell_type": "code",
   "execution_count": 4,
   "metadata": {},
   "outputs": [],
   "source": [
    "from classes.data.dataset import get_raw_dataset, raw_to_processed_dataset, load_data, get_processed_dataset\n",
    "from classes.preprocessing import spell_correction, normalize,delete_emoji, delete_unwanted_keys, preprocess_testdata\n",
    "from classes.utils import write_to_file, get_path \n",
    "from classes.visualisation import visual_sentiment, prediction_real_ratio\n",
    "from flask import Flask, jsonify\n",
    "\n",
    "\n",
    "import matplotlib.pyplot as plt\n",
    "from matplotlib.ticker import MultipleLocator\n",
    "import pandas as pd\n",
    "import json\n",
    "import re\n",
    "import numpy as np\n",
    "import pandas as pd\n",
    "import matplotlib.pyplot as plt"
   ]
  },
  {
   "cell_type": "code",
   "execution_count": 5,
   "metadata": {},
   "outputs": [],
   "source": [
    "temp = get_processed_dataset()"
   ]
  },
  {
   "cell_type": "code",
   "execution_count": 6,
   "metadata": {},
   "outputs": [
    {
     "data": {
      "image/png": "[encoded data removed]",
      "text/plain": [
       "<Figure size 432x288 with 1 Axes>"
      ]
     },
     "metadata": {
      "needs_background": "light"
     },
     "output_type": "display_data"
    }
   ],
   "source": [
    "test = temp['Sentiment'].value_counts().sort_index()\n",
    "temp['Sentiment'].value_counts().sort_index().plot(kind='barh', color='white', edgecolor='black')\n",
    "split = [0.12908777969018934,0.5140562248995983,0.3568559954102123]\n",
    "for i, v in enumerate(test):\n",
    "    plt.text(v-400, i-0.05, str(v)+\"/\"+\"{0:.1%}\".format(split[i]), color='black', fontweight='bold')\n",
    "fig = plt.gcf()\n",
    "#fig.savefig('test2png.png', dpi=1000,forward=True)\n",
    "plt.show()"
   ]
  },
  {
   "cell_type": "code",
   "execution_count": null,
   "metadata": {},
   "outputs": [],
   "source": []
  }
 ],
 "metadata": {
  "kernelspec": {
   "display_name": "Python 3",
   "language": "python",
   "name": "python3"
  }
 },
 "nbformat": 4,
 "nbformat_minor": 2
}
