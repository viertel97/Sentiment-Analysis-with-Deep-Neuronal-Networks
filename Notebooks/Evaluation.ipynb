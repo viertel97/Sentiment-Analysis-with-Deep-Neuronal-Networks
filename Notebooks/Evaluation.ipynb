{
 "cells": [
  {
   "cell_type": "code",
   "execution_count": 1,
   "metadata": {},
   "outputs": [],
   "source": [
    "%load_ext autoreload\n",
    "%autoreload 2"
   ]
  },
  {
   "cell_type": "code",
   "execution_count": 5,
   "metadata": {},
   "outputs": [],
   "source": [
    "import os\n",
    "import sys\n",
    "module_path = os.path.abspath(os.path.join('..'))\n",
    "if module_path not in sys.path:\n",
    "    sys.path.append(module_path)"
   ]
  },
  {
   "cell_type": "code",
   "execution_count": 7,
   "metadata": {},
   "outputs": [],
   "source": [
    "from classes.data.dataset import (\n",
    "    get_raw_dataset,\n",
    "    raw_to_processed_dataset,\n",
    "    load_data,\n",
    "    get_processed_dataset,\n",
    ")\n",
    "from classes.preprocessing import (\n",
    "    spell_correction,\n",
    "    normalize,\n",
    "    delete_emoji,\n",
    "    delete_unwanted_keys,\n",
    "    preprocess_testdata,\n",
    ")\n",
    "from classes.utils import write_to_file, get_path\n",
    "from classes.models import custom_gru, custom_gru_bi\n",
    "from classes.visualisation import prediction_real_ratio,metrics\n",
    "\n",
    "\n",
    "import matplotlib.pyplot as plt\n",
    "import pandas as pd\n",
    "import json\n",
    "import re\n",
    "import numpy as np\n",
    "import pandas as pd\n",
    "import matplotlib.pyplot as plt\n",
    "\n",
    "from keras.layers import Embedding, GRU, Dense, Dropout, Activation, Bidirectional, LSTM\n",
    "from keras.models import Sequential, load_model\n",
    "from keras.preprocessing.text import Tokenizer\n",
    "from keras.preprocessing.sequence import pad_sequences\n",
    "from keras.layers import Dense, Dropout, Activation, Flatten, Embedding, LSTM\n",
    "from keras.optimizers import SGD"
   ]
  },
  {
   "cell_type": "code",
   "execution_count": null,
   "metadata": {},
   "outputs": [],
   "source": [
    "(x_train, y_train), (x_test, y_test), input_dim = load_data(\n",
    "    spell_correction_enabled=False\n",
    ")"
   ]
  },
  {
   "cell_type": "code",
   "execution_count": null,
   "metadata": {},
   "outputs": [],
   "source": [
    "hidden_units = 256\n",
    "embedding_dim = 32\n",
    "model = custom_gru_bi(hidden_units,input_dim,embedding_dim)\n",
    "model.compile(loss=\"categorical_crossentropy\", optimizer=\"adam\", metrics=[\"accuracy\"])\n",
    "model = load_model(\"sentiment_analysis.h5\")"
   ]
  },
  {
   "cell_type": "code",
   "execution_count": 48,
   "metadata": {},
   "outputs": [
    {
     "name": "stdout",
     "output_type": "stream",
     "text": [
      "698/698 [==============================] - 3s 4ms/step\n"
     ]
    }
   ],
   "source": [
    "[test_loss, test_accuracy] = model.evaluate(x_test, y_test)"
   ]
  },
  {
   "cell_type": "code",
   "execution_count": 49,
   "metadata": {},
   "outputs": [
    {
     "data": {
      "text/plain": [
       "0.9369627496916106"
      ]
     },
     "execution_count": 49,
     "metadata": {},
     "output_type": "execute_result"
    }
   ],
   "source": [
    "test_accuracy"
   ]
  },
  {
   "cell_type": "code",
   "execution_count": 50,
   "metadata": {},
   "outputs": [],
   "source": [
    "predictions = model.predict(x_test)"
   ]
  },
  {
   "cell_type": "code",
   "execution_count": 51,
   "metadata": {
    "scrolled": true
   },
   "outputs": [
    {
     "name": "stdout",
     "output_type": "stream",
     "text": [
      "              Positiv  Neutral  Negativ\n",
      "Vorhersagen       247      371       80\n",
      "Wirklichkeit      249      359       90\n"
     ]
    }
   ],
   "source": [
    "prediction_real_ratio(predictions,y_test)"
   ]
  },
  {
   "cell_type": "code",
   "execution_count": 133,
   "metadata": {
    "scrolled": false
   },
   "outputs": [
    {
     "name": "stdout",
     "output_type": "stream",
     "text": [
      "Präzision: \t92.33%\n",
      "Trefferquote: \t89.87%\n",
      "F1-Maß: \t91.08\n",
      "               Positiv Neutral Negativ\n",
      "True Positive      237     347      70\n",
      "False Negative      12      12      20\n",
      "False Positive      10      24      10\n",
      "Präzision       95.95%  93.53%  87.50%\n",
      "Trefferquote    95.18%  96.66%  77.78%\n",
      "F1-Maß           95.56   95.07   82.35\n"
     ]
    }
   ],
   "source": [
    "metrics(predictions,y_test)"
   ]
  },
  {
   "cell_type": "code",
   "execution_count": 13,
   "metadata": {},
   "outputs": [
    {
     "data": {
      "image/png": "[encoded data removed]",
      "text/plain": [
       "<Figure size 432x288 with 1 Axes>"
      ]
     },
     "metadata": {
      "needs_background": "light"
     },
     "output_type": "display_data"
    }
   ],
   "source": [
    "y = (87.50,93.53,95.95)\n",
    "z = (77.78,96.66,95.18)\n",
    "k = (82.35,95.07,95.56)\n",
    "\n",
    "N = 3\n",
    "\n",
    "\n",
    "ind = np.arange(N) \n",
    "width = 0.1 \n",
    "\n",
    "ax = plt.subplot(111)\n",
    "\n",
    "ax.barh(ind+ width+width, y, width, label='Präzision',color='k')\n",
    "ax.barh(ind + width, z, width, label='Trefferquote',color='darkgray')\n",
    "ax.barh(ind , k, width, label='F1-Maß',color='slategrey')\n",
    "\n",
    "\n",
    "\n",
    "plt.yticks(ind + width-0.1 / 10, ('Negativ', 'Neutral', 'Positiv'))\n",
    "\n",
    "box = ax.get_position()\n",
    "ax.set_position([box.x0, box.y0 + box.height * 0.1,\n",
    "                 box.width, box.height * 0.9])\n",
    "\n",
    "ax.legend(loc='upper center', bbox_to_anchor=(0.5, -0.1),\n",
    "          fancybox=True, shadow=True, ncol=5)\n",
    "\n",
    "fig = plt.gcf()\n",
    "#fig.savefig('diagram.png', dpi=1000,forward=True)\n",
    "plt.show()"
   ]
  },
  {
   "cell_type": "code",
   "execution_count": null,
   "metadata": {},
   "outputs": [],
   "source": []
  }
 ],
 "metadata": {
  "kernelspec": {
   "display_name": "Python 3",
   "language": "python",
   "name": "python3"
  },
  "language_info": {
   "codemirror_mode": {
    "name": "ipython",
    "version": 3
   },
   "file_extension": ".py",
   "mimetype": "text/x-python",
   "name": "python",
   "nbconvert_exporter": "python",
   "pygments_lexer": "ipython3",
   "version": "3.7.3"
  }
 },
 "nbformat": 4,
 "nbformat_minor": 2
}
