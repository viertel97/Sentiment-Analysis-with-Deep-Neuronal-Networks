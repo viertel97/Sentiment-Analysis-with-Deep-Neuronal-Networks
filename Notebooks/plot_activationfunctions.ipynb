{
 "cells": [
  {
   "cell_type": "code",
   "execution_count": 1,
   "metadata": {},
   "outputs": [],
   "source": [
    "import numpy as np\n",
    "import matplotlib.pyplot as plt"
   ]
  },
  {
   "cell_type": "code",
   "execution_count": 2,
   "metadata": {},
   "outputs": [],
   "source": [
    "#sigmoid\n",
    "def sigmoid(x):\n",
    "    return 1 / (1 + np.exp(-x))\n",
    "xSIGMOID = np.arange(-5,5,.1)\n",
    "ySIGMOID = sigmoid(xSIGMOID)\n",
    "\n",
    "\n",
    "#tanh\n",
    "xTANH = np.arange(-5, 5, .1)\n",
    "yTANH = np.tanh(xTANH)\n",
    "\n",
    "#relu\n",
    "def relu(x):\n",
    "    return np.maximum(0, x)\n",
    "xRELU = np.arange(-5, 5, .1)\n",
    "yRELU = relu(xRELU)"
   ]
  },
  {
   "cell_type": "code",
   "execution_count": 9,
   "metadata": {},
   "outputs": [
    {
     "data": {
      "image/png": "[encoded data removed]",
      "text/plain": [
       "<Figure size 1008x216 with 3 Axes>"
      ]
     },
     "metadata": {},
     "output_type": "display_data"
    }
   ],
   "source": [
    "plt.figure(figsize=(14, 3))\n",
    "#Sigmoid\n",
    "ax1 = plt.subplot(1, 3, 1)\n",
    "\n",
    "plt.setp(ax1, xticks=(), yticks=())\n",
    "plt.xlim((-5, 5))\n",
    "plt.ylim((-0.1, 1.1))\n",
    "plt.plot(xSIGMOID, ySIGMOID, color='b', lw=1, linestyle=None)\n",
    "plt.title(\"Sigmoid\")\n",
    "\n",
    "#tanh\n",
    "ax2 = plt.subplot(1, 3, 2)\n",
    "plt.setp(ax2, xticks=(), yticks=())\n",
    "plt.xlim((-5, 5))\n",
    "plt.ylim((-1.1, 1.1))\n",
    "plt.plot(xTANH, yTANH, color='b', lw=1, linestyle=None)\n",
    "plt.title(\"Tangens hyperbolicus\")\n",
    "\n",
    "#relu\n",
    "ax3 = plt.subplot(1, 3, 3)\n",
    "plt.setp(ax3, xticks=(), yticks=())\n",
    "plt.xlim((-5, 5))\n",
    "plt.ylim((-1, 5))\n",
    "plt.plot(xRELU, yRELU, color='b', lw=1, linestyle=None)\n",
    "plt.title(\"ReLU\")\n",
    "\n",
    "plt.grid()\n",
    "plt.show()"
   ]
  },
  {
   "cell_type": "code",
   "execution_count": null,
   "metadata": {},
   "outputs": [],
   "source": []
  }
 ],
 "metadata": {
  "kernelspec": {
   "display_name": "Python 3",
   "language": "python",
   "name": "python3"
  },
  "language_info": {
   "codemirror_mode": {
    "name": "ipython",
    "version": 3
   },
   "file_extension": ".py",
   "mimetype": "text/x-python",
   "name": "python",
   "nbconvert_exporter": "python",
   "pygments_lexer": "ipython3",
   "version": "3.7.3"
  }
 },
 "nbformat": 4,
 "nbformat_minor": 2
}
